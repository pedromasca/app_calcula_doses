{
  "cells": [
    {
      "cell_type": "markdown",
      "metadata": {
        "id": "RrGDsUYPv44G"
      },
      "source": [
        "#Programa calculador para bartenders, restaurantes e bares.\n",
        "\n",
        "Define a quantidade de doses para drinks necessários para oferecer num evento, além de quantitativo de garrafas de destilados necessários para esses eventos e confraternizações, definido pela quantidade de pessoas que serão convidadas. Ainda mostra quantas doses se consegue com uma garrafa de destilado.\n",
        "\n",
        "O algoritmo mostra quantas doses ou drinks pode-se oferecer para determinada quantidade de pessoas, quantidade de garrafas de 1L necessárias para eventos, quantidade de doses se faz com uma garrafa de 1L.\n",
        "\n",
        "*   medidas em ml (mililitros)\n",
        "*   média de doses/pessoa = 4\n",
        "*   destilado = bebida alcoólica (vodka, gim, whisky, etc)\n",
        "*   dose padrão BR = 50ml\n",
        "\n"
      ]
    },
    {
      "cell_type": "code",
      "execution_count": 1,
      "metadata": {
        "colab": {
          "base_uri": "https://localhost:8080/"
        },
        "id": "7ZD1zcjfsQam",
        "outputId": "d1ea2349-4dc7-45c1-c5b2-36bc5a90aee5"
      },
      "outputs": [
        {
          "name": "stdout",
          "output_type": "stream",
          "text": [
            "Para essa quantidade de convidados, é possível oferecer: 400 drinks ou doses.\n",
            "Ou seja, 4 drinks ou doses por convidado na dosagem padrão.\n",
            "Serão necessárias 20.0 garrafas de destilado de 1L.\n",
            "Cada garrafa contêm 20.0 doses (50ml - padrão BR), as quais podem ser utilizadas\n",
            "no preparo de drinks ou degustação pura.\n",
            "\n",
            "\n",
            "Dados digitados: \n",
            "\t Convidados: 100\n",
            "\n"
          ]
        }
      ],
      "source": [
        "beverage = 1000\n",
        "dose = 50\n",
        "mediappax = 4\n",
        "pax = int(input(\"Digite quantos convidados maiores de 18 anos terão no evento: \"))\n",
        "doseppax = pax * mediappax\n",
        "print(\"Para essa quantidade de convidados, é possível oferecer:\", doseppax, \"drinks ou doses.\\nOu seja,\", mediappax, \"drinks ou doses por convidado na dosagem padrão.\")\n",
        "\n",
        "qtdBebida = (doseppax * dose) / beverage\n",
        "print(\"Serão necessárias\", qtdBebida, \"garrafas de destilado de 1L.\")\n",
        "\n",
        "qtdDoses = beverage / dose\n",
        "print(\"Cada garrafa contêm\", qtdDoses, \"doses (50ml - padrão BR), as quais podem ser utilizadas\\nno preparo de drinks ou degustação pura.\")\n",
        "\n",
        "print(\"\\n\")\n",
        "print(f\"Dados digitados: \\n\"\n",
        "      f\"\\t Convidados: {pax}\\n\")"
      ]
    }
  ],
  "metadata": {
    "colab": {
      "name": "app_calcula_doses.ipynb",
      "provenance": []
    },
    "kernelspec": {
      "display_name": "Python 3.9.12 ('base')",
      "language": "python",
      "name": "python3"
    },
    "language_info": {
      "codemirror_mode": {
        "name": "ipython",
        "version": 3
      },
      "file_extension": ".py",
      "mimetype": "text/x-python",
      "name": "python",
      "nbconvert_exporter": "python",
      "pygments_lexer": "ipython3",
      "version": "3.9.13"
    },
    "vscode": {
      "interpreter": {
        "hash": "95f8877b0e10e97fa9984aa5bc05e25c40959ed896569179e74cd97a8ed3cd3f"
      }
    }
  },
  "nbformat": 4,
  "nbformat_minor": 0
}
