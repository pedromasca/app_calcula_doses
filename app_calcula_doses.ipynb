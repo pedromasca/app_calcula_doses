{
  "nbformat": 4,
  "nbformat_minor": 0,
  "metadata": {
    "colab": {
      "name": "app_calcula_doses.ipynb",
      "provenance": [],
      "authorship_tag": "ABX9TyNuovC6Pf7Ec2sbFD9IlZzb",
      "include_colab_link": true
    },
    "kernelspec": {
      "name": "python3",
      "display_name": "Python 3"
    },
    "language_info": {
      "name": "python"
    }
  },
  "cells": [
    {
      "cell_type": "markdown",
      "metadata": {
        "id": "view-in-github",
        "colab_type": "text"
      },
      "source": [
        "<a href=\"https://colab.research.google.com/github/pedromasca/app_calcula_doses/blob/main/app_calcula_doses.ipynb\" target=\"_parent\"><img src=\"https://colab.research.google.com/assets/colab-badge.svg\" alt=\"Open In Colab\"/></a>"
      ]
    },
    {
      "cell_type": "markdown",
      "source": [
        "#Programa calculador para bartenders, restaurantes e bares.\n",
        "\n",
        "Define a quantidade de doses para drinks necessários para oferecer num evento, além de quantitativo de garrafas de destilados necessários para esses eventos e confraternizações, definido pela quantidade de pessoas que serão convidadas. Ainda mostra quantas doses se consegue com uma garrafa de destilado.\n",
        "\n",
        "O algoritmo mostra quantas doses ou drinks pode-se oferecer para determinada quantidade de pessoas, quantidade de garrafas de 1L necessárias para eventos, quantidade de doses se faz com uma garrafa de 1L.\n",
        "\n",
        "*   medidas em ml (mililitros)\n",
        "*   média de doses/pessoa = 4\n",
        "*   destilado = bebida alcoólica (vodka, gim, whisky, etc)\n",
        "*   dose padrão BR = 50ml\n",
        "\n"
      ],
      "metadata": {
        "id": "RrGDsUYPv44G"
      }
    },
    {
      "cell_type": "code",
      "execution_count": null,
      "metadata": {
        "id": "7ZD1zcjfsQam"
      },
      "outputs": [],
      "source": [
        "bebida = 1000\n",
        "dose = 50\n",
        "mediappax = 4\n",
        "pax = int(input(\"Digite quantos convidados maiores de 18 anos terão no evento: \"))\n",
        "doseppax = pax * mediappax\n",
        "print(\"Para essa quantidade de convidados, é possível oferecer:\", doseppax, \"drinks ou doses. Ou seja,\", mediappax, \"drinks ou doses por convidado na dosagem padrão.\")\n",
        "\n",
        "qtdBebida = (doseppax * dose) / bebida\n",
        "print(\"Serão necessárias\", qtdBebida, \"garrafas de destilado de 1L.\")\n",
        "\n",
        "qtdDoses = bebida / dose\n",
        "print(\"Cada garrafa contêm\", qtdDoses, \"doses (50ml - padrão BR), as quais podem ser utilizadas no preparo de drinks ou degustação pura.\")"
      ]
    }
  ]
}